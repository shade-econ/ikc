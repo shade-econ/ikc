{
 "cells": [
  {
   "cell_type": "markdown",
   "id": "3d0ef82b",
   "metadata": {
    "pycharm": {
     "name": "#%% md\n"
    }
   },
   "source": [
    "# Replication file for 'The Intertemporal Keynesian Cross'\n",
    "### SHIW appendix\n",
    "\n",
    "Adrien Auclert, Matt Rognlie, Ludwig Straub\n",
    "\n",
    "April 2024\n"
   ]
  },
  {
   "cell_type": "markdown",
   "id": "dd671e10-8582-4196-868c-5f02f00c2932",
   "metadata": {},
   "source": [
    "This notebook contains:\n",
    "- Analysis of SHIW data - data for Figure 1 and appendix Figure C.1(a)\n",
    "- Verification of FOSD property for distribution of MPCs weighted by date-0 income for Figure C.1(b)"
   ]
  },
  {
   "cell_type": "code",
   "execution_count": null,
   "id": "461903cb",
   "metadata": {},
   "outputs": [],
   "source": [
    "import numpy as np\n",
    "import matplotlib.pyplot as plt\n",
    "import pandas as pd\n",
    "\n",
    "import calibration\n",
    "from models import models_heterogeneous\n",
    "from sec34_plots import set_texfig"
   ]
  },
  {
   "cell_type": "markdown",
   "id": "cc9625ed",
   "metadata": {},
   "source": [
    "Import 2010 and 2016 SHIW data, and keep only incomes above 0:"
   ]
  },
  {
   "cell_type": "code",
   "execution_count": 2,
   "id": "cfc25513",
   "metadata": {},
   "outputs": [],
   "source": [
    "s2010= pd.read_csv('data/shiw2010.csv')\n",
    "s2016= pd.read_csv('data/shiw2016.csv')\n",
    "s2010 = s2010[s2010['y']>0] \n",
    "s2016 = s2016[s2016['y']>0] "
   ]
  },
  {
   "cell_type": "markdown",
   "id": "037807b8",
   "metadata": {},
   "source": [
    "We have identifiers, sampling weights, incomes, and survey-based MPCs:"
   ]
  },
  {
   "cell_type": "code",
   "execution_count": 3,
   "id": "972ea733",
   "metadata": {},
   "outputs": [
    {
     "data": {
      "text/html": [
       "<div>\n",
       "<style scoped>\n",
       "    .dataframe tbody tr th:only-of-type {\n",
       "        vertical-align: middle;\n",
       "    }\n",
       "\n",
       "    .dataframe tbody tr th {\n",
       "        vertical-align: top;\n",
       "    }\n",
       "\n",
       "    .dataframe thead th {\n",
       "        text-align: right;\n",
       "    }\n",
       "</style>\n",
       "<table border=\"1\" class=\"dataframe\">\n",
       "  <thead>\n",
       "    <tr style=\"text-align: right;\">\n",
       "      <th></th>\n",
       "      <th>nquest</th>\n",
       "      <th>pesofit</th>\n",
       "      <th>y</th>\n",
       "      <th>riscons2</th>\n",
       "    </tr>\n",
       "  </thead>\n",
       "  <tbody>\n",
       "    <tr>\n",
       "      <th>0</th>\n",
       "      <td>173</td>\n",
       "      <td>0.259294</td>\n",
       "      <td>33267.445</td>\n",
       "      <td>60</td>\n",
       "    </tr>\n",
       "    <tr>\n",
       "      <th>1</th>\n",
       "      <td>375</td>\n",
       "      <td>0.771570</td>\n",
       "      <td>14580.000</td>\n",
       "      <td>60</td>\n",
       "    </tr>\n",
       "    <tr>\n",
       "      <th>2</th>\n",
       "      <td>465</td>\n",
       "      <td>0.308497</td>\n",
       "      <td>57819.023</td>\n",
       "      <td>0</td>\n",
       "    </tr>\n",
       "    <tr>\n",
       "      <th>3</th>\n",
       "      <td>629</td>\n",
       "      <td>0.202026</td>\n",
       "      <td>37564.723</td>\n",
       "      <td>40</td>\n",
       "    </tr>\n",
       "    <tr>\n",
       "      <th>4</th>\n",
       "      <td>632</td>\n",
       "      <td>0.164572</td>\n",
       "      <td>47306.563</td>\n",
       "      <td>0</td>\n",
       "    </tr>\n",
       "  </tbody>\n",
       "</table>\n",
       "</div>"
      ],
      "text/plain": [
       "   nquest   pesofit          y  riscons2\n",
       "0     173  0.259294  33267.445        60\n",
       "1     375  0.771570  14580.000        60\n",
       "2     465  0.308497  57819.023         0\n",
       "3     629  0.202026  37564.723        40\n",
       "4     632  0.164572  47306.563         0"
      ]
     },
     "execution_count": 3,
     "metadata": {},
     "output_type": "execute_result"
    }
   ],
   "source": [
    "s2010.head()"
   ]
  },
  {
   "cell_type": "code",
   "execution_count": 4,
   "id": "dfd5d03b",
   "metadata": {},
   "outputs": [
    {
     "name": "stdout",
     "output_type": "stream",
     "text": [
      " Number of rows, SHIW 2020 =  7936  SHIW 2016 =  7367\n"
     ]
    }
   ],
   "source": [
    "print(' Number of rows, SHIW 2020 = ', len(s2010), ' SHIW 2016 = ', len(s2016))"
   ]
  },
  {
   "cell_type": "markdown",
   "id": "b0fe5456",
   "metadata": {},
   "source": [
    "Generate an income-weighted MPC CDF:"
   ]
  },
  {
   "cell_type": "code",
   "execution_count": 5,
   "id": "276d5b95",
   "metadata": {},
   "outputs": [],
   "source": [
    "def gen_cdf(data):\n",
    "    stats = data.copy()\n",
    "    stats.rename(columns = {'riscons2': 'MPC'}, inplace=True)\n",
    "    stats['yweight']=stats['pesofit']*stats['y'] # Income weight\n",
    "    stats = stats.groupby('MPC')['yweight'].agg(['sum']).rename(columns = {'sum': 'weight'})\n",
    "    stats['freq_weight'] = stats['weight'] / sum(stats['weight'])\n",
    "    stats['cdf_weight'] = stats['freq_weight'].cumsum()\n",
    "    stats.reset_index(inplace=True)\n",
    "    stats.loc[-1] = [-1, 0, 0, 0] # Add first data point for plotting\n",
    "    return stats.sort_values(by='MPC')"
   ]
  },
  {
   "cell_type": "code",
   "execution_count": 6,
   "id": "35f44f23",
   "metadata": {},
   "outputs": [],
   "source": [
    "stats2010 = gen_cdf(s2010)\n",
    "stats2016 = gen_cdf(s2016)"
   ]
  },
  {
   "cell_type": "markdown",
   "id": "c0f7179d",
   "metadata": {},
   "source": [
    "# Figure C1(a): income-weighted MPC distribution"
   ]
  },
  {
   "cell_type": "code",
   "execution_count": 7,
   "id": "922b9d2b",
   "metadata": {},
   "outputs": [
    {
     "data": {
      "image/png": "[encoded data removed]",
      "text/plain": [
       "<Figure size 432x288 with 1 Axes>"
      ]
     },
     "metadata": {
      "needs_background": "light"
     },
     "output_type": "display_data"
    }
   ],
   "source": [
    "set_texfig()\n",
    "plt.step(stats2010['MPC'], stats2010['cdf_weight'], where='post', color='#9A0000', alpha = 0.5, label='SHIW 2010')\n",
    "plt.step(stats2016['MPC'], stats2016['cdf_weight'], where='post', color='#9A0000', label='SHIW 2016')\n",
    "plt.xlabel('MPC (\\%)')\n",
    "plt.ylabel('Cumulative fraction')\n",
    "plt.legend(framealpha=0)\n",
    "plt.title('(a) Income-weighted MPC distribution, data')\n",
    "plt.savefig('figures/figC1_a.pdf', format='pdf', transparent=True)"
   ]
  },
  {
   "cell_type": "markdown",
   "id": "a6738d03",
   "metadata": {},
   "source": [
    "# Figure 1 asset response lower bound"
   ]
  },
  {
   "cell_type": "code",
   "execution_count": 8,
   "id": "a87cfe48",
   "metadata": {},
   "outputs": [],
   "source": [
    "r = calibration.r  # 0.05\n",
    "T = 6\n",
    "\n",
    "y_weight = (s2016['y'] * s2016['pesofit']).values / (s2016['y'] * s2016['pesofit']).sum()\n",
    "mps = 1 - s2016['riscons2'].values/100"
   ]
  },
  {
   "cell_type": "markdown",
   "id": "07ac7b4d",
   "metadata": {},
   "source": [
    "Implement equation (A.48), which gives an upper bound on asset holdings in response to a date-0 income shock, in terms of the income-weighted MPS distribution:"
   ]
  },
  {
   "cell_type": "code",
   "execution_count": 9,
   "id": "96708807",
   "metadata": {},
   "outputs": [],
   "source": [
    "dAubar = np.array([(1+r)**t * y_weight @ mps**(t+1) for t in range(T)])"
   ]
  },
  {
   "cell_type": "markdown",
   "id": "ee516f51",
   "metadata": {},
   "source": [
    "By corollary 2, if we calculate $\\underline{dC_0} \\equiv 1-\\overline{dA_0}$ and $\\underline{dC_t} \\equiv (1+r)\\overline{dA_{t-1}} - \\overline{dA_t}$, then the cumulative PDV of $\\underline{dC_t}$ is a lower bound for the cumulative consumption response up to any point.\n",
    "\n",
    "Calculating, we get:"
   ]
  },
  {
   "cell_type": "code",
   "execution_count": 10,
   "id": "625050e5",
   "metadata": {},
   "outputs": [],
   "source": [
    "dClbar = - dAubar\n",
    "dClbar[0] += 1\n",
    "dClbar[1:] += (1+r)*dAubar[:-1]"
   ]
  },
  {
   "cell_type": "code",
   "execution_count": 11,
   "id": "0ff13c7c",
   "metadata": {},
   "outputs": [
    {
     "data": {
      "image/png": "[encoded data removed]",
      "text/plain": [
       "<Figure size 432x288 with 1 Axes>"
      ]
     },
     "metadata": {
      "needs_background": "light"
     },
     "output_type": "display_data"
    }
   ],
   "source": [
    "plt.plot(np.arange(T), dAubar, label='assets')\n",
    "plt.plot(np.arange(T), dClbar, label='MPC')\n",
    "plt.legend();"
   ]
  },
  {
   "cell_type": "markdown",
   "id": "d52d8e84",
   "metadata": {},
   "source": [
    "Save for use in our section 3 plot:"
   ]
  },
  {
   "cell_type": "code",
   "execution_count": 12,
   "id": "1b8cb35e",
   "metadata": {},
   "outputs": [],
   "source": [
    "np.savetxt('impc_lb_italy.txt', dClbar)"
   ]
  },
  {
   "cell_type": "markdown",
   "id": "8bf81468",
   "metadata": {},
   "source": [
    "# Figure C.1(b): Verify FOSD property required for bound to be valid "
   ]
  },
  {
   "cell_type": "markdown",
   "id": "daf93144",
   "metadata": {},
   "source": [
    "We need to verify that for all $t$,  \n",
    "    \n",
    "$$ \\mathbb{P}_{I}\\left(\\frac{z_{i}}{\\mathbb{E}_{I}\\left[z_{i}\\right]}MPS_{0i}>m\\right)>\\mathbb{P}_{I}\\left(\\frac{z_{i}}{\\mathbb{E}_{I}\\left[z_{i}\\right]}MPS_{ti}>m\\right) $$"
   ]
  },
  {
   "cell_type": "markdown",
   "id": "dd19b4fa",
   "metadata": {},
   "source": [
    "We will check this in our HA-one calibration. First, we obtain the steady state:"
   ]
  },
  {
   "cell_type": "code",
   "execution_count": 13,
   "id": "87654d28",
   "metadata": {},
   "outputs": [],
   "source": [
    "import json\n",
    "with open('solved_params.json', 'r') as f:\n",
    "    params = json.load(f)\n",
    "\n",
    "calib_ha_one, _ = calibration.get_ha_calibrations()\n",
    "ha_one = models_heterogeneous.ha_one\n",
    "ss = ha_one.steady_state({**calib_ha_one, **params['HA-one']})"
   ]
  },
  {
   "cell_type": "markdown",
   "id": "ffdef5c5",
   "metadata": {},
   "source": [
    "Next, we calculate MPCs at each idiosyncratic state:"
   ]
  },
  {
   "cell_type": "code",
   "execution_count": 14,
   "id": "8e323abb",
   "metadata": {},
   "outputs": [],
   "source": [
    "internals = ss.internals['hh']\n",
    "a, c, a_grid, r = internals['a'], internals['c'], internals['a_grid'], ss['r']\n",
    "mpcs = np.empty_like(c)\n",
    "\n",
    "# symmetric differences away from boundaries\n",
    "mpcs[:, 1:-1] = (c[:, 2:] - c[:, 0:-2]) / (a_grid[2:] - a_grid[:-2]) / (1+r)\n",
    "\n",
    "# asymmetric first differences at boundaries\n",
    "mpcs[:, 0]  = (c[:, 1] - c[:, 0]) / (a_grid[1] - a_grid[0]) / (1+r)\n",
    "mpcs[:, -1] = (c[:, -1] - c[:, -2]) / (a_grid[-1] - a_grid[-2]) / (1+r)\n",
    "\n",
    "# special case of constrained\n",
    "mpcs[a == a_grid[0]] = 1"
   ]
  },
  {
   "cell_type": "markdown",
   "id": "b72475b9",
   "metadata": {},
   "source": [
    "Now, let's evaluate how the distribution moves over time, starting from the income-weighted distribution:"
   ]
  },
  {
   "cell_type": "code",
   "execution_count": 15,
   "id": "894f055e",
   "metadata": {},
   "outputs": [],
   "source": [
    "D, e = internals['D'], internals['e_grid']\n",
    "De = D*e[:, np.newaxis]\n",
    "assert np.isclose(De.sum(), 1)"
   ]
  },
  {
   "cell_type": "markdown",
   "id": "3e8d9b3e",
   "metadata": {},
   "source": [
    "Will use some undocumented parts of `het_block.py` to get a `law_of_motion` object that gives the action of `hh` on the distribution."
   ]
  },
  {
   "cell_type": "code",
   "execution_count": 16,
   "id": "6cb0ddee",
   "metadata": {},
   "outputs": [],
   "source": [
    "from sequence_jacobian.blocks.support.het_support import CombinedTransition\n",
    "ss_hh = ha_one.extract_ss_dict(ss)\n",
    "law_of_motion = CombinedTransition([ha_one.make_endog_law_of_motion(ss_hh), ha_one.make_exog_law_of_motion(ss_hh)])\n",
    "assert np.allclose(law_of_motion.forward(D), D)"
   ]
  },
  {
   "cell_type": "markdown",
   "id": "6a0e6b9f",
   "metadata": {},
   "source": [
    "Display distribution of MPCs starting with `De`:"
   ]
  },
  {
   "cell_type": "code",
   "execution_count": 17,
   "id": "ae5e0328",
   "metadata": {},
   "outputs": [],
   "source": [
    "def plot_cdf(x, D, x0=0, *args, **kwargs):\n",
    "    D = D.ravel()\n",
    "    x = x.ravel()\n",
    "    i = np.argsort(x)\n",
    "    x = np.concatenate(([x0], x[i]))\n",
    "    D = np.concatenate(([0], D[i].cumsum()))\n",
    "    plt.plot(x, D, *args, **kwargs)"
   ]
  },
  {
   "cell_type": "markdown",
   "id": "e00fa716",
   "metadata": {},
   "source": [
    "Plot Figure C1(b):"
   ]
  },
  {
   "cell_type": "code",
   "execution_count": 18,
   "id": "b202179d",
   "metadata": {
    "scrolled": true
   },
   "outputs": [
    {
     "data": {
      "image/png": "[encoded data removed]",
      "text/plain": [
       "<Figure size 432x288 with 1 Axes>"
      ]
     },
     "metadata": {
      "needs_background": "light"
     },
     "output_type": "display_data"
    }
   ],
   "source": [
    "alphas = [1,0.85,0.7,0.55,0.4]\n",
    "De_cur = De\n",
    "for i in range(21):\n",
    "    if i % 5 == 0:\n",
    "        plot_cdf(100*mpcs, De_cur, label=f'$t={i}$', color = 'blue', alpha=alphas[i//5])\n",
    "    De_cur = law_of_motion.forward(De_cur)\n",
    "plt.xlabel('MPC (\\%)')\n",
    "plt.ylabel('Cumulative fraction')\n",
    "plt.legend(framealpha=0)\n",
    "plt.title(r'(b) $MPC_t$ distribution weighted by date-0 income, HA-one')\n",
    "plt.savefig('figures/figC1_b.pdf', format='pdf', transparent=True)"
   ]
  }
 ],
 "metadata": {
  "kernelspec": {
   "display_name": "Python 3 (ipykernel)",
   "language": "python",
   "name": "python3"
  },
  "language_info": {
   "codemirror_mode": {
    "name": "ipython",
    "version": 3
   },
   "file_extension": ".py",
   "mimetype": "text/x-python",
   "name": "python",
   "nbconvert_exporter": "python",
   "pygments_lexer": "ipython3",
   "version": "3.9.12"
  }
 },
 "nbformat": 4,
 "nbformat_minor": 5
}
